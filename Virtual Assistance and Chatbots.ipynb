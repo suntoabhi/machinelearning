{
 "cells": [
  {
   "cell_type": "markdown",
   "metadata": {},
   "source": [
    "# [Virtual Assistance and Chatbots using NLP]"
   ]
  },
  {
   "cell_type": "code",
   "execution_count": 1,
   "metadata": {
    "_cell_guid": "b1076dfc-b9ad-4769-8c92-a6c4dae69d19",
    "_uuid": "8f2839f25d086af736a60e9eeb907d3b93b6e0e5",
    "execution": {
     "iopub.execute_input": "2021-12-27T03:20:21.345452Z",
     "iopub.status.busy": "2021-12-27T03:20:21.344611Z",
     "iopub.status.idle": "2021-12-27T03:20:29.382776Z",
     "shell.execute_reply": "2021-12-27T03:20:29.382084Z",
     "shell.execute_reply.started": "2021-12-27T03:20:21.345354Z"
    }
   },
   "outputs": [
    {
     "ename": "ModuleNotFoundError",
     "evalue": "No module named 'transformers'",
     "output_type": "error",
     "traceback": [
      "\u001b[1;31m---------------------------------------------------------------------------\u001b[0m",
      "\u001b[1;31mModuleNotFoundError\u001b[0m                       Traceback (most recent call last)",
      "\u001b[1;32m~\\AppData\\Local\\Temp\\ipykernel_21968\\1112676974.py\u001b[0m in \u001b[0;36m<module>\u001b[1;34m\u001b[0m\n\u001b[0;32m      2\u001b[0m \u001b[1;32mimport\u001b[0m \u001b[0mtime\u001b[0m\u001b[1;33m\u001b[0m\u001b[1;33m\u001b[0m\u001b[0m\n\u001b[0;32m      3\u001b[0m \u001b[1;32mimport\u001b[0m \u001b[0mos\u001b[0m\u001b[1;33m\u001b[0m\u001b[1;33m\u001b[0m\u001b[0m\n\u001b[1;32m----> 4\u001b[1;33m \u001b[1;32mfrom\u001b[0m \u001b[0mtransformers\u001b[0m \u001b[1;32mimport\u001b[0m \u001b[0mAutoModelForCausalLM\u001b[0m\u001b[1;33m,\u001b[0m \u001b[0mAutoTokenizer\u001b[0m\u001b[1;33m\u001b[0m\u001b[1;33m\u001b[0m\u001b[0m\n\u001b[0m\u001b[0;32m      5\u001b[0m \u001b[1;32mimport\u001b[0m \u001b[0mtorch\u001b[0m\u001b[1;33m\u001b[0m\u001b[1;33m\u001b[0m\u001b[0m\n",
      "\u001b[1;31mModuleNotFoundError\u001b[0m: No module named 'transformers'"
     ]
    }
   ],
   "source": [
    "import numpy as np\n",
    "import time\n",
    "import os\n",
    "from transformers import AutoModelForCausalLM, AutoTokenizer\n",
    "import torch"
   ]
  },
  {
   "cell_type": "markdown",
   "metadata": {},
   "source": [
    "# Download Microsoft's DialoGPT model and tokenizer\n",
    "\n",
    "##### The Hugging Face checkpoint for the model and its tokenizer is `\"microsoft/DialoGPT-medium\"`"
   ]
  },
  {
   "cell_type": "code",
   "execution_count": 2,
   "metadata": {
    "execution": {
     "iopub.execute_input": "2021-12-27T03:20:29.384850Z",
     "iopub.status.busy": "2021-12-27T03:20:29.384121Z",
     "iopub.status.idle": "2021-12-27T03:21:05.195561Z",
     "shell.execute_reply": "2021-12-27T03:21:05.194949Z",
     "shell.execute_reply.started": "2021-12-27T03:20:29.384807Z"
    }
   },
   "outputs": [
    {
     "data": {
      "application/vnd.jupyter.widget-view+json": {
       "model_id": "110705f41ead4dfdbbfe7dbfc0159f8f",
       "version_major": 2,
       "version_minor": 0
      },
      "text/plain": [
       "Downloading:   0%|          | 0.00/26.0 [00:00<?, ?B/s]"
      ]
     },
     "metadata": {},
     "output_type": "display_data"
    },
    {
     "data": {
      "application/vnd.jupyter.widget-view+json": {
       "model_id": "8796167b3e9f405eb1fa0d0c890c2251",
       "version_major": 2,
       "version_minor": 0
      },
      "text/plain": [
       "Downloading:   0%|          | 0.00/642 [00:00<?, ?B/s]"
      ]
     },
     "metadata": {},
     "output_type": "display_data"
    },
    {
     "data": {
      "application/vnd.jupyter.widget-view+json": {
       "model_id": "2aa2be202cbf4d76bc78dbc5f40d0fd7",
       "version_major": 2,
       "version_minor": 0
      },
      "text/plain": [
       "Downloading:   0%|          | 0.00/0.99M [00:00<?, ?B/s]"
      ]
     },
     "metadata": {},
     "output_type": "display_data"
    },
    {
     "data": {
      "application/vnd.jupyter.widget-view+json": {
       "model_id": "684ea2e989c1495dbcea3f73103a0b95",
       "version_major": 2,
       "version_minor": 0
      },
      "text/plain": [
       "Downloading:   0%|          | 0.00/446k [00:00<?, ?B/s]"
      ]
     },
     "metadata": {},
     "output_type": "display_data"
    },
    {
     "data": {
      "application/vnd.jupyter.widget-view+json": {
       "model_id": "a18d2add96044e52ba4b8005e0973e64",
       "version_major": 2,
       "version_minor": 0
      },
      "text/plain": [
       "Downloading:   0%|          | 0.00/823M [00:00<?, ?B/s]"
      ]
     },
     "metadata": {},
     "output_type": "display_data"
    }
   ],
   "source": [
    "# checkpoint \n",
    "checkpoint = \"microsoft/DialoGPT-medium\"\n",
    "# download and cache tokenizer\n",
    "tokenizer = AutoTokenizer.from_pretrained(checkpoint)\n",
    "# download and cache pre-trained model\n",
    "model = AutoModelForCausalLM.from_pretrained(checkpoint)"
   ]
  },
  {
   "cell_type": "markdown",
   "metadata": {},
   "source": [
    "# A ChatBot class"
   ]
  },
  {
   "cell_type": "code",
   "execution_count": 3,
   "metadata": {
    "execution": {
     "iopub.execute_input": "2021-12-27T03:21:05.197911Z",
     "iopub.status.busy": "2021-12-27T03:21:05.197163Z",
     "iopub.status.idle": "2021-12-27T03:21:05.215424Z",
     "shell.execute_reply": "2021-12-27T03:21:05.214499Z",
     "shell.execute_reply.started": "2021-12-27T03:21:05.197861Z"
    }
   },
   "outputs": [],
   "source": [
    "# Build a ChatBot class with all necessary modules to make a complete conversation\n",
    "class ChatBot():\n",
    "    # initialize\n",
    "    def __init__(self):\n",
    "        # once chat starts, the history will be stored for chat continuity\n",
    "        self.chat_history_ids = None\n",
    "        # make input ids global to use them anywhere within the object\n",
    "        self.bot_input_ids = None\n",
    "        # a flag to check whether to end the conversation\n",
    "        self.end_chat = False\n",
    "        # greet while starting\n",
    "        self.welcome()\n",
    "        \n",
    "    def welcome(self):\n",
    "        print(\"Initializing ChatBot ...\")\n",
    "        # some time to get user ready\n",
    "        time.sleep(2)\n",
    "        print('Type \"bye\" or \"quit\" or \"exit\" to end chat \\n')\n",
    "        # give time to read what has been printed\n",
    "        time.sleep(3)\n",
    "        # Greet and introduce\n",
    "        greeting = np.random.choice([\n",
    "            \"Welcome, I am ChatBot, here for your kind service\",\n",
    "            \"Hey, Great day! I am your virtual assistant\",\n",
    "            \"Hello, it's my pleasure meeting you\",\n",
    "            \"Hi, I am a ChatBot. Let's chat!\"\n",
    "        ])\n",
    "        print(\"ChatBot >>  \" + greeting)\n",
    "        \n",
    "    def user_input(self):\n",
    "        # receive input from user\n",
    "        text = input(\"User    >> \")\n",
    "        # end conversation if user wishes so\n",
    "        if text.lower().strip() in ['bye', 'quit', 'exit']:\n",
    "            # turn flag on \n",
    "            self.end_chat=True\n",
    "            # a closing comment\n",
    "            print('ChatBot >>  See you soon! Bye!')\n",
    "            time.sleep(1)\n",
    "            print('\\nQuitting ChatBot ...')\n",
    "        else:\n",
    "            # continue chat, preprocess input text\n",
    "            # encode the new user input, add the eos_token and return a tensor in Pytorch\n",
    "            self.new_user_input_ids = tokenizer.encode(text + tokenizer.eos_token, \\\n",
    "                                                       return_tensors='pt')\n",
    "\n",
    "    def bot_response(self):\n",
    "        # append the new user input tokens to the chat history\n",
    "        # if chat has already begun\n",
    "        if self.chat_history_ids is not None:\n",
    "            self.bot_input_ids = torch.cat([self.chat_history_ids, self.new_user_input_ids], dim=-1) \n",
    "        else:\n",
    "            # if first entry, initialize bot_input_ids\n",
    "            self.bot_input_ids = self.new_user_input_ids\n",
    "        \n",
    "        # define the new chat_history_ids based on the preceding chats\n",
    "        # generated a response while limiting the total chat history to 1000 tokens, \n",
    "        self.chat_history_ids = model.generate(self.bot_input_ids, max_length=1000, \\\n",
    "                                               pad_token_id=tokenizer.eos_token_id)\n",
    "            \n",
    "        # last ouput tokens from bot\n",
    "        response = tokenizer.decode(self.chat_history_ids[:, self.bot_input_ids.shape[-1]:][0], \\\n",
    "                               skip_special_tokens=True)\n",
    "        # in case, bot fails to answer\n",
    "        if response == \"\":\n",
    "            response = self.random_response()\n",
    "        # print bot response\n",
    "        print('ChatBot >>  '+ response)\n",
    "        \n",
    "    # in case there is no response from model\n",
    "    def random_response(self):\n",
    "        i = -1\n",
    "        response = tokenizer.decode(self.chat_history_ids[:, self.bot_input_ids.shape[i]:][0], \\\n",
    "                               skip_special_tokens=True)\n",
    "        # iterate over history backwards to find the last token\n",
    "        while response == '':\n",
    "            i = i-1\n",
    "            response = tokenizer.decode(self.chat_history_ids[:, self.bot_input_ids.shape[i]:][0], \\\n",
    "                               skip_special_tokens=True)\n",
    "        # if it is a question, answer suitably\n",
    "        if response.strip() == '?':\n",
    "            reply = np.random.choice([\"I don't know\", \n",
    "                                     \"I am not sure\"])\n",
    "        # not a question? answer suitably\n",
    "        else:\n",
    "            reply = np.random.choice([\"Great\", \n",
    "                                      \"Fine. What's up?\", \n",
    "                                      \"Okay\"\n",
    "                                     ])\n",
    "        return reply"
   ]
  },
  {
   "cell_type": "code",
   "execution_count": 4,
   "metadata": {
    "execution": {
     "iopub.execute_input": "2021-12-27T03:21:05.217343Z",
     "iopub.status.busy": "2021-12-27T03:21:05.217133Z",
     "iopub.status.idle": "2021-12-27T03:31:17.740707Z",
     "shell.execute_reply": "2021-12-27T03:31:17.739565Z",
     "shell.execute_reply.started": "2021-12-27T03:21:05.217317Z"
    }
   },
   "outputs": [
    {
     "name": "stdout",
     "output_type": "stream",
     "text": [
      "Initializing ChatBot ...\n",
      "Type \"bye\" or \"quit\" or \"exit\" to end chat \n",
      "\n",
      "ChatBot >>  Welcome, I am ChatBot, here for your kind service\n"
     ]
    },
    {
     "name": "stdin",
     "output_type": "stream",
     "text": [
      "User    >>  Hi. How are you?\n"
     ]
    },
    {
     "name": "stdout",
     "output_type": "stream",
     "text": [
      "ChatBot >>  I'm good, how are you?\n"
     ]
    },
    {
     "name": "stdin",
     "output_type": "stream",
     "text": [
      "User    >>  I'm fine. Do you cook?\n"
     ]
    },
    {
     "name": "stdout",
     "output_type": "stream",
     "text": [
      "ChatBot >>  I do.\n"
     ]
    },
    {
     "name": "stdin",
     "output_type": "stream",
     "text": [
      "User    >>  What is your favourite recipe?\n"
     ]
    },
    {
     "name": "stdout",
     "output_type": "stream",
     "text": [
      "ChatBot >>  I don't really cook.\n"
     ]
    },
    {
     "name": "stdin",
     "output_type": "stream",
     "text": [
      "User    >>  No problem. What is your favourite food?\n"
     ]
    },
    {
     "name": "stdout",
     "output_type": "stream",
     "text": [
      "ChatBot >>  I don't really eat food.\n"
     ]
    },
    {
     "name": "stdin",
     "output_type": "stream",
     "text": [
      "User    >>  I know. I like sea food a lot.\n"
     ]
    },
    {
     "name": "stdout",
     "output_type": "stream",
     "text": [
      "ChatBot >>  I like that.\n"
     ]
    },
    {
     "name": "stdin",
     "output_type": "stream",
     "text": [
      "User    >>  I have coffee often. How about you?\n"
     ]
    },
    {
     "name": "stdout",
     "output_type": "stream",
     "text": [
      "ChatBot >>  I like coffee.\n"
     ]
    },
    {
     "name": "stdin",
     "output_type": "stream",
     "text": [
      "User    >>  Do you take coffee with milk and sugar?\n"
     ]
    },
    {
     "name": "stdout",
     "output_type": "stream",
     "text": [
      "ChatBot >>  I don't drink coffee.\n"
     ]
    },
    {
     "name": "stdin",
     "output_type": "stream",
     "text": [
      "User    >>  Oh, you like it but don't drink. I understand.\n"
     ]
    },
    {
     "name": "stdout",
     "output_type": "stream",
     "text": [
      "ChatBot >>  I don't drink coffee\n"
     ]
    },
    {
     "name": "stdin",
     "output_type": "stream",
     "text": [
      "User    >>  Shall we have dinner tonight?\n"
     ]
    },
    {
     "name": "stdout",
     "output_type": "stream",
     "text": [
      "ChatBot >>  Fine. What's up?\n"
     ]
    },
    {
     "name": "stdin",
     "output_type": "stream",
     "text": [
      "User    >>  I will book a table and inform you. Be ready.\n"
     ]
    },
    {
     "name": "stdout",
     "output_type": "stream",
     "text": [
      "ChatBot >>  Okay\n"
     ]
    },
    {
     "name": "stdin",
     "output_type": "stream",
     "text": [
      "User    >>  bye\n"
     ]
    },
    {
     "name": "stdout",
     "output_type": "stream",
     "text": [
      "ChatBot >>  See you soon! Bye!\n",
      "\n",
      "Quitting ChatBot ...\n"
     ]
    }
   ],
   "source": [
    "# build a ChatBot object\n",
    "bot = ChatBot()\n",
    "# start chatting\n",
    "while True:\n",
    "    # receive user input\n",
    "    bot.user_input()\n",
    "    # check whether to end chat\n",
    "    if bot.end_chat:\n",
    "        break\n",
    "    # output bot response\n",
    "    bot.bot_response()    "
   ]
  },
  {
   "cell_type": "markdown",
   "metadata": {},
   "source": [
    "# Some sample chats by this ChatBot\n",
    "\n",
    "![chat1](https://raw.githubusercontent.com/RajkumarGalaxy/Conversational-AI-ChatBot/main/chatbot_chats_1.jpg)\n",
    "\n",
    "![chat2](https://raw.githubusercontent.com/RajkumarGalaxy/Conversational-AI-ChatBot/main/chatbot_chats_2.jpg)"
   ]
  }
 ],
 "metadata": {
  "kernelspec": {
   "display_name": "Python 3 (ipykernel)",
   "language": "python",
   "name": "python3"
  },
  "language_info": {
   "codemirror_mode": {
    "name": "ipython",
    "version": 3
   },
   "file_extension": ".py",
   "mimetype": "text/x-python",
   "name": "python",
   "nbconvert_exporter": "python",
   "pygments_lexer": "ipython3",
   "version": "3.9.13"
  }
 },
 "nbformat": 4,
 "nbformat_minor": 4
}
